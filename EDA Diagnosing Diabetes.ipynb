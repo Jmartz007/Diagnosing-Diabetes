{
  "metadata": {
    "kernelspec": {
      "name": "python",
      "display_name": "Python (Pyodide)",
      "language": "python"
    },
    "language_info": {
      "codemirror_mode": {
        "name": "python",
        "version": 3
      },
      "file_extension": ".py",
      "mimetype": "text/x-python",
      "name": "python",
      "nbconvert_exporter": "python",
      "pygments_lexer": "ipython3",
      "version": "3.8"
    }
  },
  "nbformat_minor": 5,
  "nbformat": 4,
  "cells": [
    {
      "cell_type": "markdown",
      "source": "# EDA: Diagnosing Diabetes",
      "metadata": {},
      "id": "f4c71b09"
    },
    {
      "cell_type": "markdown",
      "source": "In this project, you'll imagine you are a data scientist interested in exploring data that looks at how certain diagnostic factors affect the diabetes outcome of women patients.\n\nYou will use your EDA skills to help inspect, clean, and validate the data.\n\n**Note**: This [dataset](https://www.kaggle.com/uciml/pima-indians-diabetes-database) is from the National Institute of Diabetes and Digestive and Kidney Diseases. It contains the following columns:\n\n- `Pregnancies`: Number of times pregnant\n- `Glucose`: Plasma glucose concentration per 2 hours in an oral glucose tolerance test\n- `BloodPressure`: Diastolic blood pressure\n- `SkinThickness`: Triceps skinfold thickness\n- `Insulin`: 2-Hour serum insulin\n- `BMI`: Body mass index\n- `DiabetesPedigreeFunction`: Diabetes pedigree function\n- `Age`: Age (years)\n- `Outcome`: Class variable (0 or 1)\n\nLet's get started!",
      "metadata": {},
      "id": "7cf00067"
    },
    {
      "cell_type": "markdown",
      "source": "## Initial Inspection",
      "metadata": {},
      "id": "6e1cc217"
    },
    {
      "cell_type": "markdown",
      "source": "1. First, familiarize yourself with the dataset [here](https://www.kaggle.com/uciml/pima-indians-diabetes-database).\n\n   Look at each of the nine columns in the documentation.\n   \n   What do you expect each data type to be?",
      "metadata": {},
      "id": "76684c5b"
    },
    {
      "cell_type": "markdown",
      "source": "Expected data type for each column:\n\n- `Pregnancies`: \n- `Glucose`: \n- `BloodPressure`: \n- `SkinThickness`: \n- `Insulin`: \n- `BMI`: \n- `DiabetesPedigreeFunction`: \n- `Age`: \n- `Outcome`: ",
      "metadata": {},
      "id": "f7bdb023"
    },
    {
      "cell_type": "markdown",
      "source": "2. Next, let's load in the diabetes data to start exploring.\n\n   Load the data in a variable called `diabetes_data` and print the first few rows.\n   \n   **Note**: The data is stored in a file called `diabetes.csv`.",
      "metadata": {},
      "id": "fc54249b"
    },
    {
      "cell_type": "code",
      "source": "import pandas as pd\nimport numpy as np\n\n# load in data\ndf_diabetes = pd.read_csv(\"diabetes.csv\")\ndf_diabetes",
      "metadata": {
        "trusted": true
      },
      "execution_count": 1,
      "outputs": [
        {
          "execution_count": 1,
          "output_type": "execute_result",
          "data": {
            "text/plain": "     Pregnancies  Glucose  BloodPressure  SkinThickness  Insulin   BMI  \\\n0              6      148             72             35        0  33.6   \n1              1       85             66             29        0  26.6   \n2              8      183             64              0        0  23.3   \n3              1       89             66             23       94  28.1   \n4              0      137             40             35      168  43.1   \n..           ...      ...            ...            ...      ...   ...   \n763           10      101             76             48      180  32.9   \n764            2      122             70             27        0  36.8   \n765            5      121             72             23      112  26.2   \n766            1      126             60              0        0  30.1   \n767            1       93             70             31        0  30.4   \n\n     DiabetesPedigreeFunction  Age Outcome  \n0                       0.627   50       1  \n1                       0.351   31       0  \n2                       0.672   32       1  \n3                       0.167   21       0  \n4                       2.288   33       1  \n..                        ...  ...     ...  \n763                     0.171   63       0  \n764                     0.340   27       0  \n765                     0.245   30       0  \n766                     0.349   47       1  \n767                     0.315   23       0  \n\n[768 rows x 9 columns]",
            "text/html": "<div>\n<style scoped>\n    .dataframe tbody tr th:only-of-type {\n        vertical-align: middle;\n    }\n\n    .dataframe tbody tr th {\n        vertical-align: top;\n    }\n\n    .dataframe thead th {\n        text-align: right;\n    }\n</style>\n<table border=\"1\" class=\"dataframe\">\n  <thead>\n    <tr style=\"text-align: right;\">\n      <th></th>\n      <th>Pregnancies</th>\n      <th>Glucose</th>\n      <th>BloodPressure</th>\n      <th>SkinThickness</th>\n      <th>Insulin</th>\n      <th>BMI</th>\n      <th>DiabetesPedigreeFunction</th>\n      <th>Age</th>\n      <th>Outcome</th>\n    </tr>\n  </thead>\n  <tbody>\n    <tr>\n      <th>0</th>\n      <td>6</td>\n      <td>148</td>\n      <td>72</td>\n      <td>35</td>\n      <td>0</td>\n      <td>33.6</td>\n      <td>0.627</td>\n      <td>50</td>\n      <td>1</td>\n    </tr>\n    <tr>\n      <th>1</th>\n      <td>1</td>\n      <td>85</td>\n      <td>66</td>\n      <td>29</td>\n      <td>0</td>\n      <td>26.6</td>\n      <td>0.351</td>\n      <td>31</td>\n      <td>0</td>\n    </tr>\n    <tr>\n      <th>2</th>\n      <td>8</td>\n      <td>183</td>\n      <td>64</td>\n      <td>0</td>\n      <td>0</td>\n      <td>23.3</td>\n      <td>0.672</td>\n      <td>32</td>\n      <td>1</td>\n    </tr>\n    <tr>\n      <th>3</th>\n      <td>1</td>\n      <td>89</td>\n      <td>66</td>\n      <td>23</td>\n      <td>94</td>\n      <td>28.1</td>\n      <td>0.167</td>\n      <td>21</td>\n      <td>0</td>\n    </tr>\n    <tr>\n      <th>4</th>\n      <td>0</td>\n      <td>137</td>\n      <td>40</td>\n      <td>35</td>\n      <td>168</td>\n      <td>43.1</td>\n      <td>2.288</td>\n      <td>33</td>\n      <td>1</td>\n    </tr>\n    <tr>\n      <th>...</th>\n      <td>...</td>\n      <td>...</td>\n      <td>...</td>\n      <td>...</td>\n      <td>...</td>\n      <td>...</td>\n      <td>...</td>\n      <td>...</td>\n      <td>...</td>\n    </tr>\n    <tr>\n      <th>763</th>\n      <td>10</td>\n      <td>101</td>\n      <td>76</td>\n      <td>48</td>\n      <td>180</td>\n      <td>32.9</td>\n      <td>0.171</td>\n      <td>63</td>\n      <td>0</td>\n    </tr>\n    <tr>\n      <th>764</th>\n      <td>2</td>\n      <td>122</td>\n      <td>70</td>\n      <td>27</td>\n      <td>0</td>\n      <td>36.8</td>\n      <td>0.340</td>\n      <td>27</td>\n      <td>0</td>\n    </tr>\n    <tr>\n      <th>765</th>\n      <td>5</td>\n      <td>121</td>\n      <td>72</td>\n      <td>23</td>\n      <td>112</td>\n      <td>26.2</td>\n      <td>0.245</td>\n      <td>30</td>\n      <td>0</td>\n    </tr>\n    <tr>\n      <th>766</th>\n      <td>1</td>\n      <td>126</td>\n      <td>60</td>\n      <td>0</td>\n      <td>0</td>\n      <td>30.1</td>\n      <td>0.349</td>\n      <td>47</td>\n      <td>1</td>\n    </tr>\n    <tr>\n      <th>767</th>\n      <td>1</td>\n      <td>93</td>\n      <td>70</td>\n      <td>31</td>\n      <td>0</td>\n      <td>30.4</td>\n      <td>0.315</td>\n      <td>23</td>\n      <td>0</td>\n    </tr>\n  </tbody>\n</table>\n<p>768 rows × 9 columns</p>\n</div>"
          },
          "metadata": {}
        }
      ],
      "id": "4839762f"
    },
    {
      "cell_type": "markdown",
      "source": "3. How many columns (features) does the data contain?",
      "metadata": {},
      "id": "90d35b44"
    },
    {
      "cell_type": "code",
      "source": "# print number of columns\nprint(df_diabetes.columns)\nprint(len(df_diabetes.columns))",
      "metadata": {
        "trusted": true
      },
      "execution_count": 2,
      "outputs": [
        {
          "name": "stdout",
          "text": "Index(['Pregnancies', 'Glucose', 'BloodPressure', 'SkinThickness', 'Insulin',\n       'BMI', 'DiabetesPedigreeFunction', 'Age', 'Outcome'],\n      dtype='object')\n9\n",
          "output_type": "stream"
        }
      ],
      "id": "c7fc98c4"
    },
    {
      "cell_type": "markdown",
      "source": "4. How many rows (observations) does the data contain?",
      "metadata": {},
      "id": "35d2bf80"
    },
    {
      "cell_type": "code",
      "source": "# print number of rows\nprint(len(df_diabetes))",
      "metadata": {
        "trusted": true
      },
      "execution_count": 3,
      "outputs": [
        {
          "name": "stdout",
          "text": "768\n",
          "output_type": "stream"
        }
      ],
      "id": "190b7a90"
    },
    {
      "cell_type": "markdown",
      "source": "## Further Inspection",
      "metadata": {},
      "id": "65d8ddf0"
    },
    {
      "cell_type": "markdown",
      "source": "5. Let's inspect `diabetes_data` further.\n\n   Do any of the columns in the data contain null (missing) values?",
      "metadata": {},
      "id": "04e3c6ef"
    },
    {
      "cell_type": "code",
      "source": "# find whether columns contain null values\ndf_diabetes.isnull().sum()",
      "metadata": {
        "trusted": true
      },
      "execution_count": 4,
      "outputs": [
        {
          "execution_count": 4,
          "output_type": "execute_result",
          "data": {
            "text/plain": "Pregnancies                 0\nGlucose                     0\nBloodPressure               0\nSkinThickness               0\nInsulin                     0\nBMI                         0\nDiabetesPedigreeFunction    0\nAge                         0\nOutcome                     0\ndtype: int64"
          },
          "metadata": {}
        }
      ],
      "id": "d0fa3860"
    },
    {
      "cell_type": "markdown",
      "source": "6. If you answered no to the question above, not so fast!\n\n   While it's technically true that none of the columns contain null values, that doesn't necessarily mean that the data isn't missing any values.\n   \n   When exploring data, you should always question your assumptions and try to dig deeper.\n   \n   To investigate further, calculate summary statistics on `diabetes_data` using the `.describe()` method.",
      "metadata": {},
      "id": "8ee62c01"
    },
    {
      "cell_type": "code",
      "source": "# perform summary statistics\ndf_diabetes.describe()",
      "metadata": {
        "trusted": true
      },
      "execution_count": 5,
      "outputs": [
        {
          "execution_count": 5,
          "output_type": "execute_result",
          "data": {
            "text/plain": "       Pregnancies     Glucose  BloodPressure  SkinThickness     Insulin  \\\ncount   768.000000  768.000000     768.000000     768.000000  768.000000   \nmean      3.845052  120.894531      69.105469      20.536458   79.799479   \nstd       3.369578   31.972618      19.355807      15.952218  115.244002   \nmin       0.000000    0.000000       0.000000       0.000000    0.000000   \n25%       1.000000   99.000000      62.000000       0.000000    0.000000   \n50%       3.000000  117.000000      72.000000      23.000000   30.500000   \n75%       6.000000  140.250000      80.000000      32.000000  127.250000   \nmax      17.000000  199.000000     122.000000      99.000000  846.000000   \n\n              BMI  DiabetesPedigreeFunction         Age  \ncount  768.000000                768.000000  768.000000  \nmean    31.992578                  0.471876   33.240885  \nstd      7.884160                  0.331329   11.760232  \nmin      0.000000                  0.078000   21.000000  \n25%     27.300000                  0.243750   24.000000  \n50%     32.000000                  0.372500   29.000000  \n75%     36.600000                  0.626250   41.000000  \nmax     67.100000                  2.420000   81.000000  ",
            "text/html": "<div>\n<style scoped>\n    .dataframe tbody tr th:only-of-type {\n        vertical-align: middle;\n    }\n\n    .dataframe tbody tr th {\n        vertical-align: top;\n    }\n\n    .dataframe thead th {\n        text-align: right;\n    }\n</style>\n<table border=\"1\" class=\"dataframe\">\n  <thead>\n    <tr style=\"text-align: right;\">\n      <th></th>\n      <th>Pregnancies</th>\n      <th>Glucose</th>\n      <th>BloodPressure</th>\n      <th>SkinThickness</th>\n      <th>Insulin</th>\n      <th>BMI</th>\n      <th>DiabetesPedigreeFunction</th>\n      <th>Age</th>\n    </tr>\n  </thead>\n  <tbody>\n    <tr>\n      <th>count</th>\n      <td>768.000000</td>\n      <td>768.000000</td>\n      <td>768.000000</td>\n      <td>768.000000</td>\n      <td>768.000000</td>\n      <td>768.000000</td>\n      <td>768.000000</td>\n      <td>768.000000</td>\n    </tr>\n    <tr>\n      <th>mean</th>\n      <td>3.845052</td>\n      <td>120.894531</td>\n      <td>69.105469</td>\n      <td>20.536458</td>\n      <td>79.799479</td>\n      <td>31.992578</td>\n      <td>0.471876</td>\n      <td>33.240885</td>\n    </tr>\n    <tr>\n      <th>std</th>\n      <td>3.369578</td>\n      <td>31.972618</td>\n      <td>19.355807</td>\n      <td>15.952218</td>\n      <td>115.244002</td>\n      <td>7.884160</td>\n      <td>0.331329</td>\n      <td>11.760232</td>\n    </tr>\n    <tr>\n      <th>min</th>\n      <td>0.000000</td>\n      <td>0.000000</td>\n      <td>0.000000</td>\n      <td>0.000000</td>\n      <td>0.000000</td>\n      <td>0.000000</td>\n      <td>0.078000</td>\n      <td>21.000000</td>\n    </tr>\n    <tr>\n      <th>25%</th>\n      <td>1.000000</td>\n      <td>99.000000</td>\n      <td>62.000000</td>\n      <td>0.000000</td>\n      <td>0.000000</td>\n      <td>27.300000</td>\n      <td>0.243750</td>\n      <td>24.000000</td>\n    </tr>\n    <tr>\n      <th>50%</th>\n      <td>3.000000</td>\n      <td>117.000000</td>\n      <td>72.000000</td>\n      <td>23.000000</td>\n      <td>30.500000</td>\n      <td>32.000000</td>\n      <td>0.372500</td>\n      <td>29.000000</td>\n    </tr>\n    <tr>\n      <th>75%</th>\n      <td>6.000000</td>\n      <td>140.250000</td>\n      <td>80.000000</td>\n      <td>32.000000</td>\n      <td>127.250000</td>\n      <td>36.600000</td>\n      <td>0.626250</td>\n      <td>41.000000</td>\n    </tr>\n    <tr>\n      <th>max</th>\n      <td>17.000000</td>\n      <td>199.000000</td>\n      <td>122.000000</td>\n      <td>99.000000</td>\n      <td>846.000000</td>\n      <td>67.100000</td>\n      <td>2.420000</td>\n      <td>81.000000</td>\n    </tr>\n  </tbody>\n</table>\n</div>"
          },
          "metadata": {}
        }
      ],
      "id": "451efb00"
    },
    {
      "cell_type": "markdown",
      "source": "7. Looking at the summary statistics, do you notice anything odd about the following columns?\n\n   - `Glucose`\n   - `BloodPressure`\n   - `SkinThickness`\n   - `Insulin`\n   - `BMI`",
      "metadata": {},
      "id": "ad900272"
    },
    {
      "cell_type": "markdown",
      "source": "**Your response to question 7**:\nThose columns contain minimum values which are 0.00 where there should be at least some measurement.",
      "metadata": {},
      "id": "7131eacb"
    },
    {
      "cell_type": "markdown",
      "source": "8. Do you spot any other outliers in the data?",
      "metadata": {},
      "id": "3ed15b79"
    },
    {
      "cell_type": "markdown",
      "source": "**Your response to question 8**:\nThe max no of 'Pregnancies' is 17 which most likely is a typo. There are also very large maximums which are questionable for 'insulin' and 'BMI'",
      "metadata": {},
      "id": "8a708e88"
    },
    {
      "cell_type": "markdown",
      "source": "9. Let's see if we can get a more accurate view of the missing values in the data.\n\n   Use the following code to replace the instances of `0` with `NaN` in the five columns mentioned:\n   \n   ```py\n   diabetes_data[['Glucose', 'BloodPressure', 'SkinThickness', 'Insulin', 'BMI']] = diabetes_data[['Glucose', 'BloodPressure', 'SkinThickness', 'Insulin', 'BMI']].replace(0, np.NaN)\n   ```",
      "metadata": {},
      "id": "4b5bcf47"
    },
    {
      "cell_type": "code",
      "source": "# replace instances of 0 with NaN\ndf_diabetes[['Glucose', 'BloodPressure', 'SkinThickness', 'Insulin', 'BMI']] = df_diabetes[['Glucose', 'BloodPressure', 'SkinThickness', 'Insulin', 'BMI']].replace(0, np.NaN)\n",
      "metadata": {
        "trusted": true
      },
      "execution_count": 6,
      "outputs": [],
      "id": "623def40"
    },
    {
      "cell_type": "markdown",
      "source": "10. Next, check for missing (null) values in all of the columns just like you did in Step 5.\n\n    Now how many missing values are there?",
      "metadata": {},
      "id": "ad9fc71d"
    },
    {
      "cell_type": "code",
      "source": "# find whether columns contain null values after replacements are made\ndf_diabetes.isnull().sum()",
      "metadata": {
        "trusted": true
      },
      "execution_count": 7,
      "outputs": [
        {
          "execution_count": 7,
          "output_type": "execute_result",
          "data": {
            "text/plain": "Pregnancies                   0\nGlucose                       5\nBloodPressure                35\nSkinThickness               227\nInsulin                     374\nBMI                          11\nDiabetesPedigreeFunction      0\nAge                           0\nOutcome                       0\ndtype: int64"
          },
          "metadata": {}
        }
      ],
      "id": "1e4d2845"
    },
    {
      "cell_type": "markdown",
      "source": "11. Let's take a closer look at these rows to get a better idea of _why_ some data might be missing.\n\n    Print out all the rows that contain missing (null) values.",
      "metadata": {},
      "id": "4265329e"
    },
    {
      "cell_type": "code",
      "source": "# print rows with missing values\npd.set_option('display.max_rows', 75)\npd.set_option('display.min_rows', 20)\ndf_diabetes[df_diabetes.isnull().any(axis=1)]",
      "metadata": {
        "trusted": true
      },
      "execution_count": 8,
      "outputs": [
        {
          "execution_count": 8,
          "output_type": "execute_result",
          "data": {
            "text/plain": "     Pregnancies  Glucose  BloodPressure  SkinThickness  Insulin   BMI  \\\n0              6    148.0           72.0           35.0      NaN  33.6   \n1              1     85.0           66.0           29.0      NaN  26.6   \n2              8    183.0           64.0            NaN      NaN  23.3   \n5              5    116.0           74.0            NaN      NaN  25.6   \n7             10    115.0            NaN            NaN      NaN  35.3   \n9              8    125.0           96.0            NaN      NaN   NaN   \n10             4    110.0           92.0            NaN      NaN  37.6   \n11            10    168.0           74.0            NaN      NaN  38.0   \n12            10    139.0           80.0            NaN      NaN  27.1   \n15             7    100.0            NaN            NaN      NaN  30.0   \n..           ...      ...            ...            ...      ...   ...   \n754            8    154.0           78.0           32.0      NaN  32.4   \n756            7    137.0           90.0           41.0      NaN  32.0   \n757            0    123.0           72.0            NaN      NaN  36.3   \n758            1    106.0           76.0            NaN      NaN  37.5   \n759            6    190.0           92.0            NaN      NaN  35.5   \n761            9    170.0           74.0           31.0      NaN  44.0   \n762            9     89.0           62.0            NaN      NaN  22.5   \n764            2    122.0           70.0           27.0      NaN  36.8   \n766            1    126.0           60.0            NaN      NaN  30.1   \n767            1     93.0           70.0           31.0      NaN  30.4   \n\n     DiabetesPedigreeFunction  Age Outcome  \n0                       0.627   50       1  \n1                       0.351   31       0  \n2                       0.672   32       1  \n5                       0.201   30       0  \n7                       0.134   29       0  \n9                       0.232   54       1  \n10                      0.191   30       0  \n11                      0.537   34       1  \n12                      1.441   57       0  \n15                      0.484   32       1  \n..                        ...  ...     ...  \n754                     0.443   45       1  \n756                     0.391   39       0  \n757                     0.258   52       1  \n758                     0.197   26       0  \n759                     0.278   66       1  \n761                     0.403   43       1  \n762                     0.142   33       0  \n764                     0.340   27       0  \n766                     0.349   47       1  \n767                     0.315   23       0  \n\n[376 rows x 9 columns]",
            "text/html": "<div>\n<style scoped>\n    .dataframe tbody tr th:only-of-type {\n        vertical-align: middle;\n    }\n\n    .dataframe tbody tr th {\n        vertical-align: top;\n    }\n\n    .dataframe thead th {\n        text-align: right;\n    }\n</style>\n<table border=\"1\" class=\"dataframe\">\n  <thead>\n    <tr style=\"text-align: right;\">\n      <th></th>\n      <th>Pregnancies</th>\n      <th>Glucose</th>\n      <th>BloodPressure</th>\n      <th>SkinThickness</th>\n      <th>Insulin</th>\n      <th>BMI</th>\n      <th>DiabetesPedigreeFunction</th>\n      <th>Age</th>\n      <th>Outcome</th>\n    </tr>\n  </thead>\n  <tbody>\n    <tr>\n      <th>0</th>\n      <td>6</td>\n      <td>148.0</td>\n      <td>72.0</td>\n      <td>35.0</td>\n      <td>NaN</td>\n      <td>33.6</td>\n      <td>0.627</td>\n      <td>50</td>\n      <td>1</td>\n    </tr>\n    <tr>\n      <th>1</th>\n      <td>1</td>\n      <td>85.0</td>\n      <td>66.0</td>\n      <td>29.0</td>\n      <td>NaN</td>\n      <td>26.6</td>\n      <td>0.351</td>\n      <td>31</td>\n      <td>0</td>\n    </tr>\n    <tr>\n      <th>2</th>\n      <td>8</td>\n      <td>183.0</td>\n      <td>64.0</td>\n      <td>NaN</td>\n      <td>NaN</td>\n      <td>23.3</td>\n      <td>0.672</td>\n      <td>32</td>\n      <td>1</td>\n    </tr>\n    <tr>\n      <th>5</th>\n      <td>5</td>\n      <td>116.0</td>\n      <td>74.0</td>\n      <td>NaN</td>\n      <td>NaN</td>\n      <td>25.6</td>\n      <td>0.201</td>\n      <td>30</td>\n      <td>0</td>\n    </tr>\n    <tr>\n      <th>7</th>\n      <td>10</td>\n      <td>115.0</td>\n      <td>NaN</td>\n      <td>NaN</td>\n      <td>NaN</td>\n      <td>35.3</td>\n      <td>0.134</td>\n      <td>29</td>\n      <td>0</td>\n    </tr>\n    <tr>\n      <th>9</th>\n      <td>8</td>\n      <td>125.0</td>\n      <td>96.0</td>\n      <td>NaN</td>\n      <td>NaN</td>\n      <td>NaN</td>\n      <td>0.232</td>\n      <td>54</td>\n      <td>1</td>\n    </tr>\n    <tr>\n      <th>10</th>\n      <td>4</td>\n      <td>110.0</td>\n      <td>92.0</td>\n      <td>NaN</td>\n      <td>NaN</td>\n      <td>37.6</td>\n      <td>0.191</td>\n      <td>30</td>\n      <td>0</td>\n    </tr>\n    <tr>\n      <th>11</th>\n      <td>10</td>\n      <td>168.0</td>\n      <td>74.0</td>\n      <td>NaN</td>\n      <td>NaN</td>\n      <td>38.0</td>\n      <td>0.537</td>\n      <td>34</td>\n      <td>1</td>\n    </tr>\n    <tr>\n      <th>12</th>\n      <td>10</td>\n      <td>139.0</td>\n      <td>80.0</td>\n      <td>NaN</td>\n      <td>NaN</td>\n      <td>27.1</td>\n      <td>1.441</td>\n      <td>57</td>\n      <td>0</td>\n    </tr>\n    <tr>\n      <th>15</th>\n      <td>7</td>\n      <td>100.0</td>\n      <td>NaN</td>\n      <td>NaN</td>\n      <td>NaN</td>\n      <td>30.0</td>\n      <td>0.484</td>\n      <td>32</td>\n      <td>1</td>\n    </tr>\n    <tr>\n      <th>...</th>\n      <td>...</td>\n      <td>...</td>\n      <td>...</td>\n      <td>...</td>\n      <td>...</td>\n      <td>...</td>\n      <td>...</td>\n      <td>...</td>\n      <td>...</td>\n    </tr>\n    <tr>\n      <th>754</th>\n      <td>8</td>\n      <td>154.0</td>\n      <td>78.0</td>\n      <td>32.0</td>\n      <td>NaN</td>\n      <td>32.4</td>\n      <td>0.443</td>\n      <td>45</td>\n      <td>1</td>\n    </tr>\n    <tr>\n      <th>756</th>\n      <td>7</td>\n      <td>137.0</td>\n      <td>90.0</td>\n      <td>41.0</td>\n      <td>NaN</td>\n      <td>32.0</td>\n      <td>0.391</td>\n      <td>39</td>\n      <td>0</td>\n    </tr>\n    <tr>\n      <th>757</th>\n      <td>0</td>\n      <td>123.0</td>\n      <td>72.0</td>\n      <td>NaN</td>\n      <td>NaN</td>\n      <td>36.3</td>\n      <td>0.258</td>\n      <td>52</td>\n      <td>1</td>\n    </tr>\n    <tr>\n      <th>758</th>\n      <td>1</td>\n      <td>106.0</td>\n      <td>76.0</td>\n      <td>NaN</td>\n      <td>NaN</td>\n      <td>37.5</td>\n      <td>0.197</td>\n      <td>26</td>\n      <td>0</td>\n    </tr>\n    <tr>\n      <th>759</th>\n      <td>6</td>\n      <td>190.0</td>\n      <td>92.0</td>\n      <td>NaN</td>\n      <td>NaN</td>\n      <td>35.5</td>\n      <td>0.278</td>\n      <td>66</td>\n      <td>1</td>\n    </tr>\n    <tr>\n      <th>761</th>\n      <td>9</td>\n      <td>170.0</td>\n      <td>74.0</td>\n      <td>31.0</td>\n      <td>NaN</td>\n      <td>44.0</td>\n      <td>0.403</td>\n      <td>43</td>\n      <td>1</td>\n    </tr>\n    <tr>\n      <th>762</th>\n      <td>9</td>\n      <td>89.0</td>\n      <td>62.0</td>\n      <td>NaN</td>\n      <td>NaN</td>\n      <td>22.5</td>\n      <td>0.142</td>\n      <td>33</td>\n      <td>0</td>\n    </tr>\n    <tr>\n      <th>764</th>\n      <td>2</td>\n      <td>122.0</td>\n      <td>70.0</td>\n      <td>27.0</td>\n      <td>NaN</td>\n      <td>36.8</td>\n      <td>0.340</td>\n      <td>27</td>\n      <td>0</td>\n    </tr>\n    <tr>\n      <th>766</th>\n      <td>1</td>\n      <td>126.0</td>\n      <td>60.0</td>\n      <td>NaN</td>\n      <td>NaN</td>\n      <td>30.1</td>\n      <td>0.349</td>\n      <td>47</td>\n      <td>1</td>\n    </tr>\n    <tr>\n      <th>767</th>\n      <td>1</td>\n      <td>93.0</td>\n      <td>70.0</td>\n      <td>31.0</td>\n      <td>NaN</td>\n      <td>30.4</td>\n      <td>0.315</td>\n      <td>23</td>\n      <td>0</td>\n    </tr>\n  </tbody>\n</table>\n<p>376 rows × 9 columns</p>\n</div>"
          },
          "metadata": {}
        }
      ],
      "id": "91f5b1fe"
    },
    {
      "cell_type": "markdown",
      "source": "12. Go through the rows with missing data. Do you notice any patterns or overlaps between the missing data?",
      "metadata": {},
      "id": "e3f06a2e"
    },
    {
      "cell_type": "markdown",
      "source": "**Your response to question 12**: Insulin seems to be missing a lot along with skin thickness.",
      "metadata": {},
      "id": "cb42cfe6"
    },
    {
      "cell_type": "markdown",
      "source": "13. Next, take a closer look at the data types of each column in `diabetes_data`.\n\n    Does the result match what you would expect?",
      "metadata": {},
      "id": "5b597d09"
    },
    {
      "cell_type": "code",
      "source": "# print data types using .info() method\ndf_diabetes.info()",
      "metadata": {
        "trusted": true
      },
      "execution_count": 9,
      "outputs": [
        {
          "name": "stdout",
          "text": "<class 'pandas.core.frame.DataFrame'>\nRangeIndex: 768 entries, 0 to 767\nData columns (total 9 columns):\n #   Column                    Non-Null Count  Dtype  \n---  ------                    --------------  -----  \n 0   Pregnancies               768 non-null    int64  \n 1   Glucose                   763 non-null    float64\n 2   BloodPressure             733 non-null    float64\n 3   SkinThickness             541 non-null    float64\n 4   Insulin                   394 non-null    float64\n 5   BMI                       757 non-null    float64\n 6   DiabetesPedigreeFunction  768 non-null    float64\n 7   Age                       768 non-null    int64  \n 8   Outcome                   768 non-null    object \ndtypes: float64(6), int64(2), object(1)\nmemory usage: 51.1+ KB\n",
          "output_type": "stream"
        }
      ],
      "id": "5855aa09"
    },
    {
      "cell_type": "markdown",
      "source": "14. To figure out why the `Outcome` column is of type `object` (string) instead of type `int64`, print out the unique values in the `Outcome` column.",
      "metadata": {},
      "id": "c61b8b02"
    },
    {
      "cell_type": "code",
      "source": "# print unique values of Outcome column\ndf_diabetes.Outcome.unique()",
      "metadata": {
        "trusted": true
      },
      "execution_count": 10,
      "outputs": [
        {
          "execution_count": 10,
          "output_type": "execute_result",
          "data": {
            "text/plain": "array(['1', '0', 'O'], dtype=object)"
          },
          "metadata": {}
        }
      ],
      "id": "ffedd117"
    },
    {
      "cell_type": "markdown",
      "source": "15. How might you resolve this issue?",
      "metadata": {},
      "id": "42b3bcbe"
    },
    {
      "cell_type": "markdown",
      "source": "**Your response to question 15**: Looks like there is a typo where a letter O was used instead of the number 0",
      "metadata": {},
      "id": "7495f5b6"
    },
    {
      "cell_type": "code",
      "source": "df_diabetes['Outcome'] = df_diabetes.Outcome.replace(\"O\", 0)\ndf_diabetes['Outcome'] = df_diabetes.Outcome.astype(\"int64\")\ndf_diabetes.Outcome.unique()\ndf_diabetes.info()",
      "metadata": {
        "trusted": true
      },
      "execution_count": 11,
      "outputs": [
        {
          "name": "stdout",
          "text": "<class 'pandas.core.frame.DataFrame'>\nRangeIndex: 768 entries, 0 to 767\nData columns (total 9 columns):\n #   Column                    Non-Null Count  Dtype  \n---  ------                    --------------  -----  \n 0   Pregnancies               768 non-null    int64  \n 1   Glucose                   763 non-null    float64\n 2   BloodPressure             733 non-null    float64\n 3   SkinThickness             541 non-null    float64\n 4   Insulin                   394 non-null    float64\n 5   BMI                       757 non-null    float64\n 6   DiabetesPedigreeFunction  768 non-null    float64\n 7   Age                       768 non-null    int64  \n 8   Outcome                   768 non-null    int64  \ndtypes: float64(6), int64(3)\nmemory usage: 54.1 KB\n",
          "output_type": "stream"
        }
      ],
      "id": "1ef8482c-f9de-4c93-9b49-7e2ceaba8ed7"
    },
    {
      "cell_type": "markdown",
      "source": "## Next Steps:",
      "metadata": {},
      "id": "9c5fbcbe"
    },
    {
      "cell_type": "markdown",
      "source": "16. Congratulations! In this project, you saw how EDA can help with the initial data inspection and cleaning process. This is an important step as it helps to keep your datasets clean and reliable.\n\n    Here are some ways you might extend this project if you'd like:\n    - Use `.value_counts()` to more fully explore the values in each column.\n    - Investigate other outliers in the data that may be easily overlooked.\n    - Instead of changing the `0` values in the five columns to `NaN`, try replacing the values with the median or mean of each column.",
      "metadata": {},
      "id": "22a324d0"
    },
    {
      "cell_type": "code",
      "source": "df_pregnancies = df_diabetes.Pregnancies.value_counts().reset_index()\nfor row in df_pregnancies:\n    df_pregnancies['Percent'] = round(df_pregnancies['Pregnancies'] / 768 * 100, 1)\ndf_pregnancies.pop(\"index\")\ndf_pregnancies",
      "metadata": {
        "trusted": true
      },
      "execution_count": 12,
      "outputs": [
        {
          "execution_count": 12,
          "output_type": "execute_result",
          "data": {
            "text/plain": "    Pregnancies  Percent\n0           135     17.6\n1           111     14.5\n2           103     13.4\n3            75      9.8\n4            68      8.9\n5            57      7.4\n6            50      6.5\n7            45      5.9\n8            38      4.9\n9            28      3.6\n10           24      3.1\n11           11      1.4\n12           10      1.3\n13            9      1.2\n14            2      0.3\n15            1      0.1\n16            1      0.1",
            "text/html": "<div>\n<style scoped>\n    .dataframe tbody tr th:only-of-type {\n        vertical-align: middle;\n    }\n\n    .dataframe tbody tr th {\n        vertical-align: top;\n    }\n\n    .dataframe thead th {\n        text-align: right;\n    }\n</style>\n<table border=\"1\" class=\"dataframe\">\n  <thead>\n    <tr style=\"text-align: right;\">\n      <th></th>\n      <th>Pregnancies</th>\n      <th>Percent</th>\n    </tr>\n  </thead>\n  <tbody>\n    <tr>\n      <th>0</th>\n      <td>135</td>\n      <td>17.6</td>\n    </tr>\n    <tr>\n      <th>1</th>\n      <td>111</td>\n      <td>14.5</td>\n    </tr>\n    <tr>\n      <th>2</th>\n      <td>103</td>\n      <td>13.4</td>\n    </tr>\n    <tr>\n      <th>3</th>\n      <td>75</td>\n      <td>9.8</td>\n    </tr>\n    <tr>\n      <th>4</th>\n      <td>68</td>\n      <td>8.9</td>\n    </tr>\n    <tr>\n      <th>5</th>\n      <td>57</td>\n      <td>7.4</td>\n    </tr>\n    <tr>\n      <th>6</th>\n      <td>50</td>\n      <td>6.5</td>\n    </tr>\n    <tr>\n      <th>7</th>\n      <td>45</td>\n      <td>5.9</td>\n    </tr>\n    <tr>\n      <th>8</th>\n      <td>38</td>\n      <td>4.9</td>\n    </tr>\n    <tr>\n      <th>9</th>\n      <td>28</td>\n      <td>3.6</td>\n    </tr>\n    <tr>\n      <th>10</th>\n      <td>24</td>\n      <td>3.1</td>\n    </tr>\n    <tr>\n      <th>11</th>\n      <td>11</td>\n      <td>1.4</td>\n    </tr>\n    <tr>\n      <th>12</th>\n      <td>10</td>\n      <td>1.3</td>\n    </tr>\n    <tr>\n      <th>13</th>\n      <td>9</td>\n      <td>1.2</td>\n    </tr>\n    <tr>\n      <th>14</th>\n      <td>2</td>\n      <td>0.3</td>\n    </tr>\n    <tr>\n      <th>15</th>\n      <td>1</td>\n      <td>0.1</td>\n    </tr>\n    <tr>\n      <th>16</th>\n      <td>1</td>\n      <td>0.1</td>\n    </tr>\n  </tbody>\n</table>\n</div>"
          },
          "metadata": {}
        }
      ],
      "id": "b7f440b6"
    }
  ]
}